{
 "cells": [
  {
   "cell_type": "code",
   "execution_count": 1,
   "metadata": {
    "collapsed": false
   },
   "outputs": [],
   "source": [
    "import pandas as pd\n",
    "import numpy as np\n",
    "import os\n",
    "%matplotlib inline\n",
    "import matplotlib.pyplot as plt\n",
    "from haloPropertyAnalysis.comparisons import Sim, CompareSims"
   ]
  },
  {
   "cell_type": "code",
   "execution_count": 28,
   "metadata": {
    "collapsed": false
   },
   "outputs": [],
   "source": [
    "from lsscosmo import halomassfunction as hmf\n",
    "from lsscosmo import psutils as psu\n",
    "from lsscosmo import hacc\n",
    "from utils import plotutils as pu"
   ]
  },
  {
   "cell_type": "markdown",
   "metadata": {},
   "source": [
    "## Define Models and Transfer functions at z=0"
   ]
  },
  {
   "cell_type": "code",
   "execution_count": 73,
   "metadata": {
    "collapsed": false
   },
   "outputs": [
    {
     "name": "stdout",
     "output_type": "stream",
     "text": [
      "printing omeganu **************\n",
      "0.0\n",
      "From indat  0.0\n",
      "From cosmo  0.0\n",
      "printing omeganu **************\n",
      "0.01983733\n",
      "From indat  0.01983733\n",
      "From cosmo  0.01983733\n"
     ]
    }
   ],
   "source": [
    "example_data = '/Users/rbiswas/data/datastar'\n",
    "datadir = os.path.join(example_data,'simulations/')\n",
    "M000simtransfer = os.path.join(datadir,  \"MiraU/Grid/M000/CAMB/cmbM000.tf\")\n",
    "\n",
    "M000indatfile = os.path.join(datadir, \"MiraU/Grid/M000/L2100/HACC001/run/indat.params\")\n",
    "M000n1indatfile = \"/Users/rbiswas/data/datastar/simulations/Neutrinos/M000n1/L2100/HACC000/run/indat.params\"\n",
    "\n",
    "M000simtransfer = os.path.join(datadir,  \"MiraU/Grid/M000/CAMB/cmbM000.tf\")\n",
    "M000n1Simtransfer='/Users/rbiswas/data/datastar/simulations/Neutrinos/M000n1/CAMB/cmbM001n.tf'\n",
    "\n",
    "M000 = hacc.haccsim(M000indatfile, name = \"M000\")\n",
    "M000n1 = hacc.haccsim(M000n1indatfile, name = \"M000n1\")\n",
    "\n",
    "M011indatfile = os.path.join(datadir, \"MiraU/Grid/M000/L2100/HACC001/run/indat.params\")\n",
    "M011Simtransfer = os.path.join(datadir, \"MiraU/Grid/M000/L2100/HACC001/run/cmbM011.tf\")\n",
    "M011Simtransfer = '/Users/rbiswas/data/datastar/simulations/MiraU/Grid/MiraU/Grid/M011/L2100/HACC000/run/cmbM011.tf'"
   ]
  },
  {
   "cell_type": "code",
   "execution_count": null,
   "metadata": {
    "collapsed": true
   },
   "outputs": [],
   "source": []
  },
  {
   "cell_type": "code",
   "execution_count": 74,
   "metadata": {
    "collapsed": false
   },
   "outputs": [
    {
     "name": "stdout",
     "output_type": "stream",
     "text": [
      "printing omeganu **************\n",
      "0.0\n",
      "From indat  0.0\n",
      "From cosmo  0.0\n"
     ]
    }
   ],
   "source": [
    "M011 = hacc.haccsim(M011indatfile, name='M011')"
   ]
  },
  {
   "cell_type": "code",
   "execution_count": 4,
   "metadata": {
    "collapsed": false
   },
   "outputs": [
    {
     "name": "stderr",
     "output_type": "stream",
     "text": [
      "/Users/rbiswas/.local/lib/python2.7/site-packages/lsscosmo/psutils.py:579: FutureWarning: comparison to `None` will result in an elementwise object comparison in the future.\n",
      "  if koverh == None:\n"
     ]
    }
   ],
   "source": [
    "M000ps = psu.powerspectrum(koverh=None,\n",
    "                           pstype=\"matter\",\n",
    "                           sigma8type=\"matter\",\n",
    "                           asciifile=M000simtransfer,\n",
    "                           cosmo=M000.cosmo)\n",
    "M000n1cbmps = psu.powerspectrum(koverh=None,\n",
    "                               pstype=\"cbmatter\",\n",
    "                               sigma8type=\"matter\",\n",
    "                               asciifile=M000n1Simtransfer,\n",
    "                               cosmo=M000n1.cosmo)"
   ]
  },
  {
   "cell_type": "markdown",
   "metadata": {},
   "source": [
    "## Define location of Halo Outputs from  Simulation"
   ]
  },
  {
   "cell_type": "code",
   "execution_count": 5,
   "metadata": {
    "collapsed": true
   },
   "outputs": [],
   "source": [
    "datastar = '/Users/rbiswas/data/datastar'\n",
    "M000n1dir = os.path.join(datastar, 'clustering')\n",
    "M000dir = os.path.join(datastar, 'Testing_z2')\n",
    "M000n1D"
   ]
  },
  {
   "cell_type": "markdown",
   "metadata": {},
   "source": [
    "### Describe Simulations"
   ]
  },
  {
   "cell_type": "code",
   "execution_count": 7,
   "metadata": {
    "collapsed": false
   },
   "outputs": [
    {
     "name": "stdout",
     "output_type": "stream",
     "text": [
      "/Users/rbiswas/data/datastar/Testing_z2\n",
      "/Users/rbiswas/data/datastar/clustering\n"
     ]
    }
   ],
   "source": [
    "LCDM = Sim(simulationDir=M000dir, name='M000')\n",
    "nLCDM = Sim(simulationDir=M000n1dir, name='M000n1')\n",
    "# EnuLCDM = Sim(simulationDir=M011dir, name='M011')"
   ]
  },
  {
   "cell_type": "markdown",
   "metadata": {},
   "source": [
    "#### Suppression From Simulation\n",
    "\n",
    "Neutrino Mass Function / LCDM mass function"
   ]
  },
  {
   "cell_type": "code",
   "execution_count": 86,
   "metadata": {
    "collapsed": false
   },
   "outputs": [
    {
     "data": {
      "image/png": "[encoded data removed]",
      "text/plain": [
       "<matplotlib.figure.Figure at 0x10cae94d0>"
      ]
     },
     "metadata": {},
     "output_type": "display_data"
    }
   ],
   "source": [
    "cmpLCDMnLCDM = CompareSims(LCDM, nLCDM)\n",
    "df = cmpLCDMnLCDM.comparisons\n",
    "df.to_csv('M000M000n1comparisons.csv', index=None)\n",
    "fig = cmpLCDMnLCDM.plotSuppression()"
   ]
  },
  {
   "cell_type": "markdown",
   "metadata": {},
   "source": [
    "### Power Spectrum of cb part (smooth nu approximation)"
   ]
  },
  {
   "cell_type": "code",
   "execution_count": 75,
   "metadata": {
    "collapsed": false
   },
   "outputs": [],
   "source": [
    "M000ps = psu.powerspectrum(koverh=None,\n",
    "                           pstype=\"matter\",\n",
    "                           sigma8type=\"matter\",\n",
    "                           asciifile=M000simtransfer,\n",
    "                           cosmo=M000.cosmo)\n",
    "M000n1cbmps = psu.powerspectrum(koverh=None,\n",
    "                               pstype=\"cbmatter\",\n",
    "                               sigma8type=\"matter\",\n",
    "                               asciifile=M000n1Simtransfer,\n",
    "                               cosmo=M000n1.cosmo)\n",
    "M011cbmps = psu.powerspectrum(koverh=None,\n",
    "                               pstype=\"cbmatter\",\n",
    "                               sigma8type=\"matter\",\n",
    "                               asciifile=M011Simtransfer,\n",
    "                               cosmo=M011.cosmo)"
   ]
  },
  {
   "cell_type": "code",
   "execution_count": 80,
   "metadata": {
    "collapsed": false
   },
   "outputs": [],
   "source": [
    "M011cbmps = psu.powerspectrum(koverh=None,\n",
    "                               pstype=\"cbmatter\",\n",
    "                               sigma8type=\"matter\",\n",
    "                               asciifile=M011Simtransfer,\n",
    "                               cosmo=M011.cosmo)"
   ]
  },
  {
   "cell_type": "code",
   "execution_count": 79,
   "metadata": {
    "collapsed": true
   },
   "outputs": [],
   "source": [
    "from lsscosmo import psutils as psu"
   ]
  },
  {
   "cell_type": "markdown",
   "metadata": {},
   "source": [
    "## Calculate Halo Mass Functions at different time steps\n",
    "\n"
   ]
  },
  {
   "cell_type": "code",
   "execution_count": 91,
   "metadata": {
    "collapsed": false
   },
   "outputs": [],
   "source": [
    "massininvh = np.logspace(12, 15)\n",
    "M000h = M000.cosmo.h\n",
    "M000n1h = M000n1.cosmo.h\n",
    "M011h = M011.cosmo.h\n",
    "step=499\n",
    "MF_M000_0 = hmf.dndlnM0(massininvh/M000h, ps=M000ps, cosmo=M000.cosmo,\n",
    "                      z=M000.steptoredshift(step))/ M000h**3\n",
    "MF_M000n1_0 = hmf.dndlnM0(massininvh/M000n1h, ps=M000n1cbmps, cosmo=M000n1.cosmo,\n",
    "                      z=M000n1.steptoredshift(step))/ M000n1h**3\n",
    "MF_M011_0 = hmf.dndlnM0(massininvh/M011h, ps=M000n1cbmps, cosmo=M011.cosmo,\n",
    "                        z=M011.steptoredshift(step))/ M011h**3\n",
    "\n",
    "\n",
    "step=247\n",
    "MF_M000_1 = hmf.dndlnM0(massininvh/M000h, ps=M000ps, cosmo=M000.cosmo,\n",
    "                      z=M000.steptoredshift(step))/ M000h**3\n",
    "MF_M000n1_1 = hmf.dndlnM0(massininvh/M000n1h, ps=M000n1cbmps, cosmo=M000n1.cosmo,\n",
    "                      z=M000n1.steptoredshift(step))/ M000n1h**3\n",
    "MF_M011_1 = hmf.dndlnM0(massininvh/h, ps=M000n1cbmps, cosmo=M011.cosmo,\n",
    "                        z=M011.steptoredshift(step))/ M011h**3\n",
    "\n",
    "step=163\n",
    "MF_M000_2 = hmf.dndlnM0(massininvh/M000h, ps=M000ps, cosmo=M000.cosmo,\n",
    "                      z=M000.steptoredshift(step))/ M000h**3\n",
    "MF_M000n1_2 = hmf.dndlnM0(massininvh/M000n1h, ps=M000n1cbmps, cosmo=M000n1.cosmo,\n",
    "                      z=M000n1.steptoredshift(step))/ M000n1h**3\n",
    "MF_M011_2 = hmf.dndlnM0(massininvh/M011h, ps=M000n1cbmps, cosmo=M011.cosmo,\n",
    "                        z=M011.steptoredshift(step))/ M011h**3\n"
   ]
  },
  {
   "cell_type": "code",
   "execution_count": 20,
   "metadata": {
    "collapsed": false
   },
   "outputs": [
    {
     "data": {
      "text/plain": [
       "<matplotlib.legend.Legend at 0x10c07a6d0>"
      ]
     },
     "execution_count": 20,
     "metadata": {},
     "output_type": "execute_result"
    },
    {
     "data": {
      "image/png": "[encoded data removed]",
      "text/plain": [
       "<matplotlib.figure.Figure at 0x10b9acbd0>"
      ]
     },
     "metadata": {},
     "output_type": "display_data"
    }
   ],
   "source": [
    "plt.loglog(massininvh/M000h , MF_M000_0, '-k', label='LCDM')\n",
    "plt.loglog(massininvh/M000h , MF_M000_1, '-k')\n",
    "plt.loglog(massininvh/M000h , MF_M000_2, '-k')\n",
    "plt.loglog(massininvh/M000n1h , MF_M000n1_0, '-r', label='nLCDM')\n",
    "plt.loglog(massininvh/M000n1h , MF_M000n1_1, '-r')\n",
    "plt.loglog(massininvh/M000n1h , MF_M000n1_2, '-r')\n",
    "plt.grid(True)\n",
    "plt.legend(loc='best')"
   ]
  },
  {
   "cell_type": "code",
   "execution_count": 87,
   "metadata": {
    "collapsed": false
   },
   "outputs": [
    {
     "data": {
      "image/png": "[encoded data removed]",
      "text/plain": [
       "<matplotlib.figure.Figure at 0x10cae94d0>"
      ]
     },
     "execution_count": 87,
     "metadata": {},
     "output_type": "execute_result"
    }
   ],
   "source": [
    "fig"
   ]
  },
  {
   "cell_type": "code",
   "execution_count": 88,
   "metadata": {
    "collapsed": false
   },
   "outputs": [
    {
     "data": {
      "text/plain": [
       "<matplotlib.text.Text at 0x10dce7290>"
      ]
     },
     "execution_count": 88,
     "metadata": {},
     "output_type": "execute_result"
    }
   ],
   "source": [
    "fig.axes[1].set_ylabel('ratio of mass function for neutrino to mass funciton for LCDM')"
   ]
  },
  {
   "cell_type": "code",
   "execution_count": 89,
   "metadata": {
    "collapsed": false
   },
   "outputs": [
    {
     "name": "stdout",
     "output_type": "stream",
     "text": [
      "printing omeganu **************\n",
      "0.0\n",
      "From indat  0.0\n",
      "From cosmo  0.0\n",
      "printing omeganu **************\n",
      "0.01983733\n",
      "From indat  0.01983733\n",
      "From cosmo  0.01983733\n"
     ]
    }
   ],
   "source": [
    "example_data = '/Users/rbiswas/data/datastar'\n",
    "datadir = os.path.join(example_data,'simulations/')\n",
    "M000simtransfer = os.path.join(datadir,  \"MiraU/Grid/M000/CAMB/cmbM000.tf\")\n",
    "\n",
    "M000indatfile = os.path.join(datadir, \"MiraU/Grid/M000/L2100/HACC001/run/indat.params\")\n",
    "M000n1indatfile = \"/Users/rbiswas/data/datastar/simulations/Neutrinos/M000n1/L2100/HACC000/run/indat.params\"\n",
    "\n",
    "M000simtransfer = os.path.join(datadir,  \"MiraU/Grid/M000/CAMB/cmbM000.tf\")\n",
    "M000n1Simtransfer='/Users/rbiswas/data/datastar/simulations/Neutrinos/M000n1/CAMB/cmbM001n.tf'\n",
    "\n",
    "M000 = hacc.haccsim(M000indatfile, name = \"M000\")\n",
    "M000n1 = hacc.haccsim(M000n1indatfile, name = \"M000n1\")"
   ]
  },
  {
   "cell_type": "code",
   "execution_count": 92,
   "metadata": {
    "collapsed": false
   },
   "outputs": [
    {
     "data": {
      "text/plain": [
       "[<matplotlib.lines.Line2D at 0x10cc442d0>]"
      ]
     },
     "execution_count": 92,
     "metadata": {},
     "output_type": "execute_result"
    }
   ],
   "source": [
    "fig.axes[0].plot(massininvh, MF_M000n1_0 / MF_M000_0, 'k')\n",
    "fig.axes[1].plot(massininvh, MF_M000n1_1 / MF_M000_1, 'k')\n",
    "fig.axes[2].plot(massininvh, MF_M000n1_2 / MF_M000_2, 'k')\n",
    "\n",
    "fig.axes[0].plot(massininvh, MF_M011_0 / MF_M000_0, 'r')\n",
    "fig.axes[1].plot(massininvh, MF_M011_1 / MF_M000_1, 'r')\n",
    "fig.axes[2].plot(massininvh, MF_M011_2 / MF_M000_2, 'r')"
   ]
  },
  {
   "cell_type": "code",
   "execution_count": 93,
   "metadata": {
    "collapsed": false
   },
   "outputs": [
    {
     "data": {
      "image/png": "[encoded data removed]",
      "text/plain": [
       "<matplotlib.figure.Figure at 0x10cae94d0>"
      ]
     },
     "execution_count": 93,
     "metadata": {},
     "output_type": "execute_result"
    }
   ],
   "source": [
    "fig"
   ]
  },
  {
   "cell_type": "code",
   "execution_count": 58,
   "metadata": {
    "collapsed": true
   },
   "outputs": [],
   "source": [
    "fig.savefig('suppression_M000n1.pdf')"
   ]
  },
  {
   "cell_type": "code",
   "execution_count": 38,
   "metadata": {
    "collapsed": true
   },
   "outputs": [],
   "source": [
    "from interfacecosmology import psutils as psu"
   ]
  },
  {
   "cell_type": "code",
   "execution_count": 54,
   "metadata": {
    "collapsed": false
   },
   "outputs": [],
   "source": [
    "M000n1cbmps = psu.powerspectrum(koverh=None,\n",
    "                               pstype=\"cbmatter\",\n",
    "                               sigma8type=\"matter\",\n",
    "                               asciifile=M000n1Simtransfer,\n",
    "                               cosmo=M000n1.cosmo)\n",
    "M000n1cbps = psu.powerspectrum(koverh=M000n1cbmps[0],\n",
    "                               pstype=\"cb\",\n",
    "                               sigma8type=\"matter\",\n",
    "                               asciifile=M000n1Simtransfer,\n",
    "                               cosmo=M000n1.cosmo)\n",
    "M000n1ps = psu.powerspectrum(koverh=M000n1cbmps[0],\n",
    "                             pstype=\"matter\",\n",
    "                             sigma8type=\"matter\",\n",
    "                             asciifile=M000n1Simtransfer,\n",
    "                             cosmo=M000n1.cosmo)\n",
    "M000n1cbmps_1 = psu.powerspectrum(koverh=None,\n",
    "                                  z=1.0,\n",
    "                                  pstype=\"cbmatter\",\n",
    "                                  sigma8type=\"matter\",\n",
    "                                  asciifile=M000n1Simtransfer,\n",
    "                                  cosmo=M000n1.cosmo)\n",
    "M000n1cbps_1 = psu.powerspectrum(koverh=M000n1cbmps[0],\n",
    "                                 pstype=\"cb\",\n",
    "                                 meth\n",
    "                                 z=1.0,\n",
    "                                 sigma8type=\"matter\",\n",
    "                                 asciifile=M000n1Simtransfer,\n",
    "                                 cosmo=M000n1.cosmo)\n",
    "M000n1ps_1 = psu.powerspectrum(koverh=M000n1cbmps[0],\n",
    "                               pstype=\"matter\",\n",
    "                               z=1.0,\n",
    "                               sigma8type=\"matter\",\n",
    "                               asciifile=M000n1Simtransfer,\n",
    "                               cosmo=M000n1.cosmo)"
   ]
  },
  {
   "cell_type": "code",
   "execution_count": 51,
   "metadata": {
    "collapsed": false
   },
   "outputs": [
    {
     "data": {
      "image/png": "[encoded data removed]",
      "text/plain": [
       "<matplotlib.figure.Figure at 0x10bc330d0>"
      ]
     },
     "metadata": {},
     "output_type": "display_data"
    }
   ],
   "source": [
    "fig, ax0, ax1 = pu.settwopanel(setdifflimits=[0.4, 1.4])\n",
    "ax0.plot(M000n1cbmps[0], M000n1cbmps[1], 'k')\n",
    "ax0.plot(M000n1cbmps[0], M000n1cbps[1], 'r')\n",
    "ax1.plot(M000n1cbmps[0], M000n1cbmps[1]/M000n1cbps[1], '-k')\n",
    "ax1.plot(M000n1cbmps[0], M000n1cbmps[1]/M000n1ps[1], '-r')\n",
    "ax0.set_xscale('log')\n",
    "ax0.set_yscale('log')\n",
    "ax1.set_xscale('log')"
   ]
  },
  {
   "cell_type": "code",
   "execution_count": 57,
   "metadata": {
    "collapsed": false
   },
   "outputs": [
    {
     "data": {
      "text/plain": [
       "(0.5, 1.5)"
      ]
     },
     "execution_count": 57,
     "metadata": {},
     "output_type": "execute_result"
    },
    {
     "data": {
      "image/png": "[encoded data removed]",
      "text/plain": [
       "<matplotlib.figure.Figure at 0x10cc4d190>"
      ]
     },
     "metadata": {},
     "output_type": "display_data"
    }
   ],
   "source": [
    "plt.plot(M000n1cbmps[0], M000n1cbmps_1[1]/M000n1cbmps[1], '-k')\n",
    "plt.ylim(0.5, 1.5)"
   ]
  },
  {
   "cell_type": "code",
   "execution_count": 46,
   "metadata": {
    "collapsed": false
   },
   "outputs": [],
   "source": [
    "delta_omegam = M000n1.cosmo.Om0 - (M000n1.cosmo.Ob0 + M000n1.cosmo.Oc0)"
   ]
  },
  {
   "cell_type": "code",
   "execution_count": 47,
   "metadata": {
    "collapsed": false
   },
   "outputs": [
    {
     "data": {
      "text/plain": [
       "0.019837329999999986"
      ]
     },
     "execution_count": 47,
     "metadata": {},
     "output_type": "execute_result"
    }
   ],
   "source": [
    "delta_omegam / "
   ]
  },
  {
   "cell_type": "markdown",
   "metadata": {},
   "source": [
    "## Scratch"
   ]
  },
  {
   "cell_type": "code",
   "execution_count": 17,
   "metadata": {
    "collapsed": false
   },
   "outputs": [
    {
     "data": {
      "image/png": "[encoded data removed]",
      "text/plain": [
       "<matplotlib.figure.Figure at 0x109cd7fd0>"
      ]
     },
     "metadata": {},
     "output_type": "display_data"
    }
   ],
   "source": [
    "plt.errorbar(LCDM.mf_results(247).FOF_Mass,\n",
    "             LCDM.mf_results(247).dndlnM, \n",
    "             yerr=LCDM.mf_results(247).frac_Err * LCDM.mf_results(499).dndlnM,\n",
    "            fmt='o')\n",
    "plt.xscale('log')\n",
    "plt.yscale('log')"
   ]
  },
  {
   "cell_type": "code",
   "execution_count": 18,
   "metadata": {
    "collapsed": false
   },
   "outputs": [
    {
     "data": {
      "text/html": [
       "<div style=\"max-height:1000px;max-width:1500px;overflow:auto;\">\n",
       "<table border=\"1\" class=\"dataframe\">\n",
       "  <thead>\n",
       "    <tr style=\"text-align: right;\">\n",
       "      <th></th>\n",
       "      <th>FOF_Mass</th>\n",
       "      <th>numClusters</th>\n",
       "      <th>dndlnM</th>\n",
       "      <th>frac_Err</th>\n",
       "      <th>oneoversigma</th>\n",
       "      <th>f(sigma)</th>\n",
       "      <th>fsigma_fit</th>\n",
       "      <th>dn/dln_Mfit</th>\n",
       "    </tr>\n",
       "  </thead>\n",
       "  <tbody>\n",
       "    <tr>\n",
       "      <th>0</th>\n",
       "      <td>3.484101e+12</td>\n",
       "      <td>1082834</td>\n",
       "      <td>0.001069</td>\n",
       "      <td>0.0010</td>\n",
       "      <td>0.6118</td>\n",
       "      <td>0.3197</td>\n",
       "      <td>0.3211</td>\n",
       "      <td>0.001073</td>\n",
       "    </tr>\n",
       "    <tr>\n",
       "      <th>1</th>\n",
       "      <td>4.732952e+12</td>\n",
       "      <td>819157</td>\n",
       "      <td>0.000808</td>\n",
       "      <td>0.0011</td>\n",
       "      <td>0.6426</td>\n",
       "      <td>0.3207</td>\n",
       "      <td>0.3221</td>\n",
       "      <td>0.000812</td>\n",
       "    </tr>\n",
       "    <tr>\n",
       "      <th>2</th>\n",
       "      <td>6.423003e+12</td>\n",
       "      <td>620573</td>\n",
       "      <td>0.000612</td>\n",
       "      <td>0.0013</td>\n",
       "      <td>0.6757</td>\n",
       "      <td>0.3210</td>\n",
       "      <td>0.3222</td>\n",
       "      <td>0.000615</td>\n",
       "    </tr>\n",
       "    <tr>\n",
       "      <th>3</th>\n",
       "      <td>8.715419e+12</td>\n",
       "      <td>466646</td>\n",
       "      <td>0.000460</td>\n",
       "      <td>0.0015</td>\n",
       "      <td>0.7114</td>\n",
       "      <td>0.3194</td>\n",
       "      <td>0.3212</td>\n",
       "      <td>0.000463</td>\n",
       "    </tr>\n",
       "    <tr>\n",
       "      <th>4</th>\n",
       "      <td>1.183044e+13</td>\n",
       "      <td>352417</td>\n",
       "      <td>0.000348</td>\n",
       "      <td>0.0017</td>\n",
       "      <td>0.7501</td>\n",
       "      <td>0.3188</td>\n",
       "      <td>0.3186</td>\n",
       "      <td>0.000348</td>\n",
       "    </tr>\n",
       "    <tr>\n",
       "      <th>5</th>\n",
       "      <td>1.606262e+13</td>\n",
       "      <td>262157</td>\n",
       "      <td>0.000259</td>\n",
       "      <td>0.0020</td>\n",
       "      <td>0.7920</td>\n",
       "      <td>0.3137</td>\n",
       "      <td>0.3143</td>\n",
       "      <td>0.000259</td>\n",
       "    </tr>\n",
       "    <tr>\n",
       "      <th>6</th>\n",
       "      <td>2.180363e+13</td>\n",
       "      <td>193991</td>\n",
       "      <td>0.000191</td>\n",
       "      <td>0.0023</td>\n",
       "      <td>0.8375</td>\n",
       "      <td>0.3067</td>\n",
       "      <td>0.3079</td>\n",
       "      <td>0.000192</td>\n",
       "    </tr>\n",
       "    <tr>\n",
       "      <th>7</th>\n",
       "      <td>2.960028e+13</td>\n",
       "      <td>141378</td>\n",
       "      <td>0.000140</td>\n",
       "      <td>0.0027</td>\n",
       "      <td>0.8869</td>\n",
       "      <td>0.2954</td>\n",
       "      <td>0.2989</td>\n",
       "      <td>0.000141</td>\n",
       "    </tr>\n",
       "    <tr>\n",
       "      <th>8</th>\n",
       "      <td>4.016602e+13</td>\n",
       "      <td>102901</td>\n",
       "      <td>0.000102</td>\n",
       "      <td>0.0031</td>\n",
       "      <td>0.9407</td>\n",
       "      <td>0.2840</td>\n",
       "      <td>0.2872</td>\n",
       "      <td>0.000103</td>\n",
       "    </tr>\n",
       "    <tr>\n",
       "      <th>9</th>\n",
       "      <td>5.449870e+13</td>\n",
       "      <td>73574</td>\n",
       "      <td>0.000073</td>\n",
       "      <td>0.0037</td>\n",
       "      <td>0.9993</td>\n",
       "      <td>0.2681</td>\n",
       "      <td>0.2722</td>\n",
       "      <td>0.000074</td>\n",
       "    </tr>\n",
       "    <tr>\n",
       "      <th>10</th>\n",
       "      <td>7.396668e+13</td>\n",
       "      <td>51626</td>\n",
       "      <td>0.000051</td>\n",
       "      <td>0.0044</td>\n",
       "      <td>1.0634</td>\n",
       "      <td>0.2484</td>\n",
       "      <td>0.2539</td>\n",
       "      <td>0.000052</td>\n",
       "    </tr>\n",
       "    <tr>\n",
       "      <th>11</th>\n",
       "      <td>1.003738e+14</td>\n",
       "      <td>35973</td>\n",
       "      <td>0.000035</td>\n",
       "      <td>0.0053</td>\n",
       "      <td>1.1336</td>\n",
       "      <td>0.2284</td>\n",
       "      <td>0.2320</td>\n",
       "      <td>0.000036</td>\n",
       "    </tr>\n",
       "    <tr>\n",
       "      <th>12</th>\n",
       "      <td>1.360173e+14</td>\n",
       "      <td>23856</td>\n",
       "      <td>0.000024</td>\n",
       "      <td>0.0065</td>\n",
       "      <td>1.2103</td>\n",
       "      <td>0.1996</td>\n",
       "      <td>0.2070</td>\n",
       "      <td>0.000024</td>\n",
       "    </tr>\n",
       "    <tr>\n",
       "      <th>13</th>\n",
       "      <td>1.846259e+14</td>\n",
       "      <td>15584</td>\n",
       "      <td>0.000015</td>\n",
       "      <td>0.0080</td>\n",
       "      <td>1.2949</td>\n",
       "      <td>0.1721</td>\n",
       "      <td>0.1790</td>\n",
       "      <td>0.000016</td>\n",
       "    </tr>\n",
       "    <tr>\n",
       "      <th>14</th>\n",
       "      <td>2.504609e+14</td>\n",
       "      <td>9823</td>\n",
       "      <td>0.000010</td>\n",
       "      <td>0.0101</td>\n",
       "      <td>1.3881</td>\n",
       "      <td>0.1431</td>\n",
       "      <td>0.1491</td>\n",
       "      <td>0.000010</td>\n",
       "    </tr>\n",
       "    <tr>\n",
       "      <th>15</th>\n",
       "      <td>3.394858e+14</td>\n",
       "      <td>5891</td>\n",
       "      <td>0.000006</td>\n",
       "      <td>0.0130</td>\n",
       "      <td>1.4905</td>\n",
       "      <td>0.1130</td>\n",
       "      <td>0.1187</td>\n",
       "      <td>0.000006</td>\n",
       "    </tr>\n",
       "    <tr>\n",
       "      <th>16</th>\n",
       "      <td>4.601758e+14</td>\n",
       "      <td>3385</td>\n",
       "      <td>0.000003</td>\n",
       "      <td>0.0172</td>\n",
       "      <td>1.6039</td>\n",
       "      <td>0.0856</td>\n",
       "      <td>0.0892</td>\n",
       "      <td>0.000003</td>\n",
       "    </tr>\n",
       "    <tr>\n",
       "      <th>17</th>\n",
       "      <td>6.222863e+14</td>\n",
       "      <td>1780</td>\n",
       "      <td>0.000002</td>\n",
       "      <td>0.0237</td>\n",
       "      <td>1.7285</td>\n",
       "      <td>0.0592</td>\n",
       "      <td>0.0627</td>\n",
       "      <td>0.000002</td>\n",
       "    </tr>\n",
       "    <tr>\n",
       "      <th>18</th>\n",
       "      <td>8.437435e+14</td>\n",
       "      <td>814</td>\n",
       "      <td>0.000001</td>\n",
       "      <td>0.0350</td>\n",
       "      <td>1.8680</td>\n",
       "      <td>0.0356</td>\n",
       "      <td>0.0402</td>\n",
       "      <td>0.000001</td>\n",
       "    </tr>\n",
       "  </tbody>\n",
       "</table>\n",
       "</div>"
      ],
      "text/plain": [
       "        FOF_Mass  numClusters    dndlnM  frac_Err  oneoversigma  f(sigma)  \\\n",
       "0   3.484101e+12      1082834  0.001069    0.0010        0.6118    0.3197   \n",
       "1   4.732952e+12       819157  0.000808    0.0011        0.6426    0.3207   \n",
       "2   6.423003e+12       620573  0.000612    0.0013        0.6757    0.3210   \n",
       "3   8.715419e+12       466646  0.000460    0.0015        0.7114    0.3194   \n",
       "4   1.183044e+13       352417  0.000348    0.0017        0.7501    0.3188   \n",
       "5   1.606262e+13       262157  0.000259    0.0020        0.7920    0.3137   \n",
       "6   2.180363e+13       193991  0.000191    0.0023        0.8375    0.3067   \n",
       "7   2.960028e+13       141378  0.000140    0.0027        0.8869    0.2954   \n",
       "8   4.016602e+13       102901  0.000102    0.0031        0.9407    0.2840   \n",
       "9   5.449870e+13        73574  0.000073    0.0037        0.9993    0.2681   \n",
       "10  7.396668e+13        51626  0.000051    0.0044        1.0634    0.2484   \n",
       "11  1.003738e+14        35973  0.000035    0.0053        1.1336    0.2284   \n",
       "12  1.360173e+14        23856  0.000024    0.0065        1.2103    0.1996   \n",
       "13  1.846259e+14        15584  0.000015    0.0080        1.2949    0.1721   \n",
       "14  2.504609e+14         9823  0.000010    0.0101        1.3881    0.1431   \n",
       "15  3.394858e+14         5891  0.000006    0.0130        1.4905    0.1130   \n",
       "16  4.601758e+14         3385  0.000003    0.0172        1.6039    0.0856   \n",
       "17  6.222863e+14         1780  0.000002    0.0237        1.7285    0.0592   \n",
       "18  8.437435e+14          814  0.000001    0.0350        1.8680    0.0356   \n",
       "\n",
       "    fsigma_fit  dn/dln_Mfit  \n",
       "0       0.3211     0.001073  \n",
       "1       0.3221     0.000812  \n",
       "2       0.3222     0.000615  \n",
       "3       0.3212     0.000463  \n",
       "4       0.3186     0.000348  \n",
       "5       0.3143     0.000259  \n",
       "6       0.3079     0.000192  \n",
       "7       0.2989     0.000141  \n",
       "8       0.2872     0.000103  \n",
       "9       0.2722     0.000074  \n",
       "10      0.2539     0.000052  \n",
       "11      0.2320     0.000036  \n",
       "12      0.2070     0.000024  \n",
       "13      0.1790     0.000016  \n",
       "14      0.1491     0.000010  \n",
       "15      0.1187     0.000006  \n",
       "16      0.0892     0.000003  \n",
       "17      0.0627     0.000002  \n",
       "18      0.0402     0.000001  "
      ]
     },
     "execution_count": 18,
     "metadata": {},
     "output_type": "execute_result"
    }
   ],
   "source": [
    "LCDM.mf_results(499)"
   ]
  },
  {
   "cell_type": "markdown",
   "metadata": {},
   "source": [
    "### For LCDM frac errors match calculation to rounding"
   ]
  },
  {
   "cell_type": "code",
   "execution_count": 19,
   "metadata": {
    "collapsed": false
   },
   "outputs": [],
   "source": [
    "xx = LCDM.mf_results(499).copy(deep=True)"
   ]
  },
  {
   "cell_type": "code",
   "execution_count": 20,
   "metadata": {
    "collapsed": false
   },
   "outputs": [
    {
     "data": {
      "text/html": [
       "<div style=\"max-height:1000px;max-width:1500px;overflow:auto;\">\n",
       "<table border=\"1\" class=\"dataframe\">\n",
       "  <thead>\n",
       "    <tr style=\"text-align: right;\">\n",
       "      <th></th>\n",
       "      <th>recalc</th>\n",
       "      <th>frac_Err</th>\n",
       "    </tr>\n",
       "  </thead>\n",
       "  <tbody>\n",
       "    <tr>\n",
       "      <th>0</th>\n",
       "      <td>0.000961</td>\n",
       "      <td>0.0010</td>\n",
       "    </tr>\n",
       "    <tr>\n",
       "      <th>1</th>\n",
       "      <td>0.001105</td>\n",
       "      <td>0.0011</td>\n",
       "    </tr>\n",
       "    <tr>\n",
       "      <th>2</th>\n",
       "      <td>0.001269</td>\n",
       "      <td>0.0013</td>\n",
       "    </tr>\n",
       "    <tr>\n",
       "      <th>3</th>\n",
       "      <td>0.001464</td>\n",
       "      <td>0.0015</td>\n",
       "    </tr>\n",
       "    <tr>\n",
       "      <th>4</th>\n",
       "      <td>0.001685</td>\n",
       "      <td>0.0017</td>\n",
       "    </tr>\n",
       "    <tr>\n",
       "      <th>5</th>\n",
       "      <td>0.001953</td>\n",
       "      <td>0.0020</td>\n",
       "    </tr>\n",
       "    <tr>\n",
       "      <th>6</th>\n",
       "      <td>0.002270</td>\n",
       "      <td>0.0023</td>\n",
       "    </tr>\n",
       "    <tr>\n",
       "      <th>7</th>\n",
       "      <td>0.002660</td>\n",
       "      <td>0.0027</td>\n",
       "    </tr>\n",
       "    <tr>\n",
       "      <th>8</th>\n",
       "      <td>0.003117</td>\n",
       "      <td>0.0031</td>\n",
       "    </tr>\n",
       "    <tr>\n",
       "      <th>9</th>\n",
       "      <td>0.003687</td>\n",
       "      <td>0.0037</td>\n",
       "    </tr>\n",
       "    <tr>\n",
       "      <th>10</th>\n",
       "      <td>0.004401</td>\n",
       "      <td>0.0044</td>\n",
       "    </tr>\n",
       "    <tr>\n",
       "      <th>11</th>\n",
       "      <td>0.005272</td>\n",
       "      <td>0.0053</td>\n",
       "    </tr>\n",
       "    <tr>\n",
       "      <th>12</th>\n",
       "      <td>0.006474</td>\n",
       "      <td>0.0065</td>\n",
       "    </tr>\n",
       "    <tr>\n",
       "      <th>13</th>\n",
       "      <td>0.008011</td>\n",
       "      <td>0.0080</td>\n",
       "    </tr>\n",
       "    <tr>\n",
       "      <th>14</th>\n",
       "      <td>0.010090</td>\n",
       "      <td>0.0101</td>\n",
       "    </tr>\n",
       "    <tr>\n",
       "      <th>15</th>\n",
       "      <td>0.013029</td>\n",
       "      <td>0.0130</td>\n",
       "    </tr>\n",
       "    <tr>\n",
       "      <th>16</th>\n",
       "      <td>0.017188</td>\n",
       "      <td>0.0172</td>\n",
       "    </tr>\n",
       "    <tr>\n",
       "      <th>17</th>\n",
       "      <td>0.023702</td>\n",
       "      <td>0.0237</td>\n",
       "    </tr>\n",
       "    <tr>\n",
       "      <th>18</th>\n",
       "      <td>0.035050</td>\n",
       "      <td>0.0350</td>\n",
       "    </tr>\n",
       "  </tbody>\n",
       "</table>\n",
       "</div>"
      ],
      "text/plain": [
       "      recalc  frac_Err\n",
       "0   0.000961    0.0010\n",
       "1   0.001105    0.0011\n",
       "2   0.001269    0.0013\n",
       "3   0.001464    0.0015\n",
       "4   0.001685    0.0017\n",
       "5   0.001953    0.0020\n",
       "6   0.002270    0.0023\n",
       "7   0.002660    0.0027\n",
       "8   0.003117    0.0031\n",
       "9   0.003687    0.0037\n",
       "10  0.004401    0.0044\n",
       "11  0.005272    0.0053\n",
       "12  0.006474    0.0065\n",
       "13  0.008011    0.0080\n",
       "14  0.010090    0.0101\n",
       "15  0.013029    0.0130\n",
       "16  0.017188    0.0172\n",
       "17  0.023702    0.0237\n",
       "18  0.035050    0.0350"
      ]
     },
     "execution_count": 20,
     "metadata": {},
     "output_type": "execute_result"
    }
   ],
   "source": [
    "xx['recalc'] = xx.numClusters**(-0.5)\n",
    "xx[['recalc', 'frac_Err']]"
   ]
  },
  {
   "cell_type": "markdown",
   "metadata": {},
   "source": [
    "#### Roughly matches expectation"
   ]
  },
  {
   "cell_type": "code",
   "execution_count": 21,
   "metadata": {
    "collapsed": false
   },
   "outputs": [
    {
     "data": {
      "text/plain": [
       "0     8.155155e-04\n",
       "1     6.174969e-04\n",
       "2     4.708310e-04\n",
       "3     3.545583e-04\n",
       "4     2.705113e-04\n",
       "5     2.025196e-04\n",
       "6     1.505353e-04\n",
       "7     1.101655e-04\n",
       "8     8.128796e-05\n",
       "9     5.825866e-05\n",
       "10    4.102348e-05\n",
       "11    2.925124e-05\n",
       "12    1.921025e-05\n",
       "13    1.266308e-05\n",
       "14    8.149507e-06\n",
       "15    4.854172e-06\n",
       "16    2.818878e-06\n",
       "17    1.454904e-06\n",
       "18    6.561413e-07\n",
       "0     6.759506e-04\n",
       "1     4.834035e-04\n",
       "2     3.470978e-04\n",
       "3     2.453769e-04\n",
       "4     1.710966e-04\n",
       "5     1.161154e-04\n",
       "6     7.721547e-05\n",
       "7     5.001131e-05\n",
       "8     3.143715e-05\n",
       "9     1.906971e-05\n",
       "10    1.100809e-05\n",
       "11    5.755816e-06\n",
       "12    2.933857e-06\n",
       "13    1.433011e-06\n",
       "14    5.435414e-07\n",
       "15    1.767254e-07\n",
       "16    4.643254e-08\n",
       "17    1.734052e-08\n",
       "18             NaN\n",
       "0     3.485959e-04\n",
       "1     2.235978e-04\n",
       "2     1.417031e-04\n",
       "3     8.706170e-05\n",
       "4     5.152754e-05\n",
       "5     2.914194e-05\n",
       "6     1.545438e-05\n",
       "7     7.808857e-06\n",
       "8     3.897166e-06\n",
       "9     1.582751e-06\n",
       "10    5.193547e-07\n",
       "11    1.877631e-07\n",
       "12    4.663675e-08\n",
       "13    9.703840e-09\n",
       "14    5.334509e-09\n",
       "15             NaN\n",
       "dtype: float64"
      ]
     },
     "execution_count": 21,
     "metadata": {},
     "output_type": "execute_result"
    }
   ],
   "source": [
    "df.M000_MF * df.numClusters1**(-0.5) / df.ApproxErrorHigh"
   ]
  },
  {
   "cell_type": "code",
   "execution_count": 22,
   "metadata": {
    "collapsed": false
   },
   "outputs": [
    {
     "data": {
      "text/plain": [
       "0     8.163213e-04\n",
       "1     6.181987e-04\n",
       "2     4.714475e-04\n",
       "3     3.550941e-04\n",
       "4     2.709837e-04\n",
       "5     2.029307e-04\n",
       "6     1.508913e-04\n",
       "7     1.104712e-04\n",
       "8     8.155395e-05\n",
       "9     5.848444e-05\n",
       "10    4.121374e-05\n",
       "11    2.941539e-05\n",
       "12    1.934213e-05\n",
       "13    1.277129e-05\n",
       "14    8.238142e-06\n",
       "15    4.922347e-06\n",
       "16    2.871506e-06\n",
       "17    1.492376e-06\n",
       "18    6.811491e-07\n",
       "0     6.767114e-04\n",
       "1     4.840471e-04\n",
       "2     3.476475e-04\n",
       "3     2.458431e-04\n",
       "4     1.714884e-04\n",
       "5     1.164395e-04\n",
       "6     7.748191e-05\n",
       "7     5.022741e-05\n",
       "8     3.161055e-05\n",
       "9     1.920608e-05\n",
       "10    1.111333e-05\n",
       "11    5.830527e-06\n",
       "12    2.988619e-06\n",
       "13    1.472113e-06\n",
       "14    5.667058e-07\n",
       "15    1.900352e-07\n",
       "16    5.237010e-08\n",
       "17    2.177197e-08\n",
       "18             NaN\n",
       "0     3.491648e-04\n",
       "1     2.240540e-04\n",
       "2     1.420678e-04\n",
       "3     8.734961e-05\n",
       "4     5.175043e-05\n",
       "5     2.931129e-05\n",
       "6     1.557799e-05\n",
       "7     7.897965e-06\n",
       "8     3.962879e-06\n",
       "9     1.623380e-06\n",
       "10    5.406050e-07\n",
       "11    2.016607e-07\n",
       "12    5.318188e-08\n",
       "13    1.290975e-08\n",
       "14    8.169807e-09\n",
       "15             NaN\n",
       "dtype: float64"
      ]
     },
     "execution_count": 22,
     "metadata": {},
     "output_type": "execute_result"
    }
   ],
   "source": [
    "df.M000_MF * df.numClusters1**(-0.5) / df.ApproxErrorLow"
   ]
  },
  {
   "cell_type": "code",
   "execution_count": 23,
   "metadata": {
    "collapsed": true
   },
   "outputs": [],
   "source": [
    "from astropy.cosmology import Planck13 as cosmo\n"
   ]
  },
  {
   "cell_type": "code",
   "execution_count": 24,
   "metadata": {
    "collapsed": false
   },
   "outputs": [
    {
     "ename": "NameError",
     "evalue": "name 'datadir' is not defined",
     "output_type": "error",
     "traceback": [
      "\u001b[0;31m---------------------------------------------------------------------------\u001b[0m",
      "\u001b[0;31mNameError\u001b[0m                                 Traceback (most recent call last)",
      "\u001b[0;32m<ipython-input-24-0aef06cde73c>\u001b[0m in \u001b[0;36m<module>\u001b[0;34m()\u001b[0m\n\u001b[0;32m----> 1\u001b[0;31m \u001b[0mM000indatfile\u001b[0m \u001b[0;34m=\u001b[0m \u001b[0mos\u001b[0m\u001b[0;34m.\u001b[0m\u001b[0mpath\u001b[0m\u001b[0;34m.\u001b[0m\u001b[0mjoin\u001b[0m\u001b[0;34m(\u001b[0m\u001b[0mdatadir\u001b[0m\u001b[0;34m,\u001b[0m \u001b[0;34m\"MiraU/Grid/M000/L2100/HACC001/run/indat.params\"\u001b[0m\u001b[0;34m)\u001b[0m\u001b[0;34m\u001b[0m\u001b[0m\n\u001b[0m",
      "\u001b[0;31mNameError\u001b[0m: name 'datadir' is not defined"
     ]
    }
   ],
   "source": [
    "M000indatfile = os.path.join(datadir, \"MiraU/Grid/M000/L2100/HACC001/run/indat.params\")"
   ]
  },
  {
   "cell_type": "code",
   "execution_count": 33,
   "metadata": {
    "collapsed": false
   },
   "outputs": [],
   "source": [
    "from lsscosmo import halomassfunction as hmf\n",
    "from lsscosmo import psutils as psu\n",
    "from lsscosmo import hacc\n",
    "\n",
    "example_data = '/Users/rbiswas/data/datastar'\n",
    "datadir = os.path.join(example_data,'simulations/')\n",
    "M000simtransfer = os.path.join(datadir,  \"MiraU/Grid/M000/CAMB/cmbM000.tf\")\n",
    "\n",
    "M000indatfile = os.path.join(datadir, \"MiraU/Grid/M000/L2100/HACC001/run/indat.params\")\n",
    "M000n1indatfile = \"/Users/rbiswas/data/datastar/simulations/Neutrinos/M000n1/L2100/HACC000/run/indat.params\"\n",
    "\n",
    "M000simtransfer = os.path.join(datadir,  \"MiraU/Grid/M000/CAMB/cmbM000.tf\")\n",
    "M000n1Simtransfer='/Users/rbiswas/data/datastar/simulations/Neutrinos/M000n1/CAMB/cmbM001n.tf'\n",
    "\n",
    "M000 = hacc.haccsim(M000indatfile, name = \"M000\")\n",
    "M000n1 = hacc.haccsim(M000n1indatfile, name = \"M000n1\")"
   ]
  },
  {
   "cell_type": "code",
   "execution_count": 42,
   "metadata": {
    "collapsed": false
   },
   "outputs": [],
   "source": [
    "M000ps = psu.powerspectrum(koverh=None,\n",
    "                           pstype=\"matter\",\n",
    "                           sigma8type=\"matter\",\n",
    "                           asciifile=M000simtransfer,\n",
    "                           cosmo=M000.cosmo)\n",
    "M000n1cbmps = psu.powerspectrum(koverh=None,\n",
    "                               pstype=\"cbmatter\",\n",
    "                               sigma8type=\"matter\",\n",
    "                               asciifile=M000n1Simtransfer,\n",
    "                               cosmo=M000n1.cosmo)"
   ]
  },
  {
   "cell_type": "code",
   "execution_count": 52,
   "metadata": {
    "collapsed": false
   },
   "outputs": [
    {
     "data": {
      "text/plain": [
       "[<matplotlib.lines.Line2D at 0x1096a0c50>]"
      ]
     },
     "execution_count": 52,
     "metadata": {},
     "output_type": "execute_result"
    },
    {
     "data": {
      "image/png": "[encoded data removed]",
      "text/plain": [
       "<matplotlib.figure.Figure at 0x109180a10>"
      ]
     },
     "metadata": {},
     "output_type": "display_data"
    }
   ],
   "source": [
    "massininvh = np.logspace(12, 15)\n",
    "M000h = M000.cosmo.h\n",
    "step=499\n",
    "MF_M000_0 = hmf.dndlnM0(massininvh/M000h, ps=M000ps, cosmo=M000.cosmo,\n",
    "                      z=M000.steptoredshift(step))/ M000h**3\n",
    "h = M000n1.cosmo.h\n",
    "MF_M000n1_0 = hmf.dndlnM0(massininvh/h, ps=M000n1cbmps, cosmo=M000n1.cosmo,\n",
    "                      z=M000n1.steptoredshift(step))/ h**3\n",
    "step=247\n",
    "MF_M000_1 = hmf.dndlnM0(massininvh/M000h, ps=M000ps, cosmo=M000.cosmo,\n",
    "                      z=M000.steptoredshift(step))/ M000h**3\n",
    "h = M000n1.cosmo.h\n",
    "MF_M000n1_1 = hmf.dndlnM0(massininvh/h, ps=M000n1cbmps, cosmo=M000n1.cosmo,\n",
    "                      z=M000n1.steptoredshift(step))/ h**3\n",
    "step=163\n",
    "MF_M000_2 = hmf.dndlnM0(massininvh/M000h, ps=M000ps, cosmo=M000.cosmo,\n",
    "                      z=M000.steptoredshift(step))/ M000h**3\n",
    "h = M000n1.cosmo.h\n",
    "MF_M000n1_2 = hmf.dndlnM0(massininvh/h, ps=M000n1cbmps, cosmo=M000n1.cosmo,\n",
    "                      z=M000n1.steptoredshift(step))/ h**3\n",
    "\n",
    "\n",
    "\n",
    "plt.plot(massininvh, MF_M000n1 / MF_M000)\n",
    "\n"
   ]
  },
  {
   "cell_type": "code",
   "execution_count": 31,
   "metadata": {
    "collapsed": false
   },
   "outputs": [
    {
     "data": {
      "text/plain": [
       "['__class__',\n",
       " '__delattr__',\n",
       " '__dict__',\n",
       " '__doc__',\n",
       " '__format__',\n",
       " '__getattribute__',\n",
       " '__hash__',\n",
       " '__init__',\n",
       " '__module__',\n",
       " '__new__',\n",
       " '__reduce__',\n",
       " '__reduce_ex__',\n",
       " '__repr__',\n",
       " '__setattr__',\n",
       " '__sizeof__',\n",
       " '__str__',\n",
       " '__subclasshook__',\n",
       " '__weakref__',\n",
       " 'filelist',\n",
       " 'interpolated_MF',\n",
       " 'massrange',\n",
       " 'mf_fname',\n",
       " 'mf_results',\n",
       " 'name',\n",
       " 'simDir']"
      ]
     },
     "execution_count": 31,
     "metadata": {},
     "output_type": "execute_result"
    }
   ],
   "source": [
    "dir(LCDM)\n"
   ]
  },
  {
   "cell_type": "code",
   "execution_count": null,
   "metadata": {
    "collapsed": true
   },
   "outputs": [],
   "source": []
  },
  {
   "cell_type": "code",
   "execution_count": 44,
   "metadata": {
    "collapsed": true
   },
   "outputs": [],
   "source": [
    "massininvh = np.logspace(12,15)"
   ]
  },
  {
   "cell_type": "code",
   "execution_count": 45,
   "metadata": {
    "collapsed": false
   },
   "outputs": [
    {
     "data": {
      "text/plain": [
       "array([  1.00000000e+12,   1.15139540e+12,   1.32571137e+12,\n",
       "         1.52641797e+12,   1.75751062e+12,   2.02358965e+12,\n",
       "         2.32995181e+12,   2.68269580e+12,   3.08884360e+12,\n",
       "         3.55648031e+12,   4.09491506e+12,   4.71486636e+12,\n",
       "         5.42867544e+12,   6.25055193e+12,   7.19685673e+12,\n",
       "         8.28642773e+12,   9.54095476e+12,   1.09854114e+13,\n",
       "         1.26485522e+13,   1.45634848e+13,   1.67683294e+13,\n",
       "         1.93069773e+13,   2.22299648e+13,   2.55954792e+13,\n",
       "         2.94705170e+13,   3.39322177e+13,   3.90693994e+13,\n",
       "         4.49843267e+13,   5.17947468e+13,   5.96362332e+13,\n",
       "         6.86648845e+13,   7.90604321e+13,   9.10298178e+13,\n",
       "         1.04811313e+14,   1.20679264e+14,   1.38949549e+14,\n",
       "         1.59985872e+14,   1.84206997e+14,   2.12095089e+14,\n",
       "         2.44205309e+14,   2.81176870e+14,   3.23745754e+14,\n",
       "         3.72759372e+14,   4.29193426e+14,   4.94171336e+14,\n",
       "         5.68986603e+14,   6.55128557e+14,   7.54312006e+14,\n",
       "         8.68511374e+14,   1.00000000e+15])"
      ]
     },
     "execution_count": 45,
     "metadata": {},
     "output_type": "execute_result"
    }
   ],
   "source": [
    "massininvh"
   ]
  },
  {
   "cell_type": "code",
   "execution_count": null,
   "metadata": {
    "collapsed": true
   },
   "outputs": [],
   "source": []
  }
 ],
 "metadata": {
  "kernelspec": {
   "display_name": "Python 2",
   "language": "python",
   "name": "python2"
  },
  "language_info": {
   "codemirror_mode": {
    "name": "ipython",
    "version": 2
   },
   "file_extension": ".py",
   "mimetype": "text/x-python",
   "name": "python",
   "nbconvert_exporter": "python",
   "pygments_lexer": "ipython2",
   "version": "2.7.10"
  }
 },
 "nbformat": 4,
 "nbformat_minor": 0
}
